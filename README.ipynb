{
 "cells": [
  {
   "cell_type": "markdown",
   "metadata": {},
   "source": [
    "# Advent of Code 2020\n",
    "\n",
    "## Table of Contents\n",
    "\n",
    "* [Day 1: Report Repair](day.01.ipynb)\n",
    "* [Day 2: Password Philosophy](day.02.ipynb)\n",
    "* [Day 3: Toboggan Trajectory](day.03.ipynb)\n",
    "* [Day 4: Passport Processing](day.04.ipynb)\n",
    "* [Day 5: Binary Boarding](day.05.ipynb)\n",
    "* [Day 6: Custom Customs](day.06.ipynb)\n",
    "* [Day 15: Rambunctious Recitation](day.15.ipynb)\n",
    "* [Day 16: Ticket Translation](day.16.ipynb)\n",
    "* [Day 17: Conway Cubes](day.17.ipynb)"
   ]
  }
 ],
 "metadata": {
  "jupytext": {
   "formats": "ipynb,md",
   "hide_notebook_metadata": true
  },
  "kernelspec": {
   "display_name": "Python 3",
   "language": "python",
   "name": "python3"
  },
  "language_info": {
   "codemirror_mode": {
    "name": "ipython",
    "version": 3
   },
   "file_extension": ".py",
   "mimetype": "text/x-python",
   "name": "python",
   "nbconvert_exporter": "python",
   "pygments_lexer": "ipython3",
   "version": "3.7.5"
  }
 },
 "nbformat": 4,
 "nbformat_minor": 4
}
