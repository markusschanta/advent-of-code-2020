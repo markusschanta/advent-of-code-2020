{
 "cells": [
  {
   "cell_type": "markdown",
   "metadata": {},
   "source": [
    "# Day 7: Handy Haversacks\n",
    "\n",
    "You land at the regional airport in time for your next flight. In fact, it looks like you'll even have time to grab some food: all flights are currently delayed due to **issues in luggage processing.**\n",
    "\n",
    "Due to recent aviation regulations, many rules (your puzzle input) are being enforced about bags and their contents; bags must be color-coded and must contain specific quantities of other color-coded bags. Apparently, nobody responsible for these regulations considered how long they would take to enforce!\n",
    "\n",
    "For example, consider the following rules:\n",
    "\n",
    "    light red bags contain 1 bright white bag, 2 muted yellow bags.\n",
    "    dark orange bags contain 3 bright white bags, 4 muted yellow bags.\n",
    "    bright white bags contain 1 shiny gold bag.\n",
    "    muted yellow bags contain 2 shiny gold bags, 9 faded blue bags.\n",
    "    shiny gold bags contain 1 dark olive bag, 2 vibrant plum bags.\n",
    "    dark olive bags contain 3 faded blue bags, 4 dotted black bags.\n",
    "    vibrant plum bags contain 5 faded blue bags, 6 dotted black bags.\n",
    "    faded blue bags contain no other bags.\n",
    "    dotted black bags contain no other bags.\n",
    "\n",
    "These rules specify the required contents for 9 bag types. In this example, every `faded blue` bag is empty, every `vibrant plum` bag contains 11 bags (5 `faded blue` and 6 `dotted black`), and so on.\n",
    "\n",
    "You have a **`shiny gold`** bag. If you wanted to carry it in at least one other bag, how many different bag colors would be valid for the outermost bag? (In other words: how many colors can, eventually, contain at least one `shiny gold` bag?)\n",
    "\n",
    "In the above rules, the following options would be available to you:\n",
    "\n",
    "* A `bright white` bag, which can hold your `shiny gold` bag directly.\n",
    "* A `muted yellow` bag, which can hold your `shiny gold` bag directly, plus some other bags.\n",
    "* A `dark orange` bag, which can hold `bright white` and `muted yellow` bags, either of which could then hold your `shiny gold` bag.\n",
    "* A `light red` bag, which can hold `bright white` and `muted yellow` bags, either of which could then hold your `shiny gold` bag.\n",
    "\n",
    "So, in this example, the number of bag colors that can eventually contain at least one `shiny gold` bag is **`4`**.\n",
    "\n",
    "**How many bag colors can eventually contain at least one `shiny gold` bag?** (The list of rules is quite long; make sure you get all of it.)\n",
    "\n",
    "Your puzzle answer was `248`."
   ]
  },
  {
   "cell_type": "code",
   "execution_count": 1,
   "metadata": {},
   "outputs": [],
   "source": [
    "input = \"\"\"light red bags contain 1 bright white bag, 2 muted yellow bags.\n",
    "dark orange bags contain 3 bright white bags, 4 muted yellow bags.\n",
    "bright white bags contain 1 shiny gold bag.\n",
    "muted yellow bags contain 2 shiny gold bags, 9 faded blue bags.\n",
    "shiny gold bags contain 1 dark olive bag, 2 vibrant plum bags.\n",
    "dark olive bags contain 3 faded blue bags, 4 dotted black bags.\n",
    "vibrant plum bags contain 5 faded blue bags, 6 dotted black bags.\n",
    "faded blue bags contain no other bags.\n",
    "dotted black bags contain no other bags.\"\"\".split('\\n')"
   ]
  },
  {
   "cell_type": "code",
   "execution_count": 2,
   "metadata": {},
   "outputs": [],
   "source": [
    "input = \"\"\"shiny gold bags contain 2 dark red bags.\n",
    "dark red bags contain 2 dark orange bags.\n",
    "dark orange bags contain 2 dark yellow bags.\n",
    "dark yellow bags contain 2 dark green bags.\n",
    "dark green bags contain 2 dark blue bags.\n",
    "dark blue bags contain 2 dark violet bags.\n",
    "dark violet bags contain no other bags.\"\"\".split('\\n')"
   ]
  },
  {
   "cell_type": "code",
   "execution_count": 3,
   "metadata": {},
   "outputs": [],
   "source": [
    "input = open('day.07.input.txt', 'r').read().split('\\n')"
   ]
  },
  {
   "cell_type": "code",
   "execution_count": 4,
   "metadata": {},
   "outputs": [
    {
     "data": {
      "text/plain": [
       "248"
      ]
     },
     "execution_count": 4,
     "metadata": {},
     "output_type": "execute_result"
    }
   ],
   "source": [
    "import re\n",
    "\n",
    "regex_outer = re.compile(\"(.*) bags contain (.*)\\.\")\n",
    "regex_inner = re.compile(\"(\\d*) (.*) bags?\")\n",
    "\n",
    "parents = {}\n",
    "children = {}\n",
    "\n",
    "for r in input:\n",
    "    groups = regex_outer.match(r).groups()\n",
    "    outer = groups[0]\n",
    "    if groups[1] == 'no other bags':\n",
    "        continue\n",
    "    inner = [regex_inner.match(i).groups() for i in groups[1].split(\", \")]\n",
    "    \n",
    "    for count, i in inner:\n",
    "        if i not in parents:\n",
    "            parents[i] = {outer}\n",
    "        else:\n",
    "            parents[i] = parents[i] | {outer}\n",
    "            \n",
    "    children[outer] = {i: int(count) for count, i in inner}\n",
    "            \n",
    "def find_parents(item, known):\n",
    "    if item in parents:\n",
    "        for p in parents[item]:\n",
    "            if p not in known:\n",
    "                known |= set({p})\n",
    "                gp = find_parents(p, known)\n",
    "                known |= gp\n",
    "        return known\n",
    "    else:\n",
    "        return known\n",
    "\n",
    "len(find_parents('shiny gold', set()))"
   ]
  },
  {
   "cell_type": "markdown",
   "metadata": {},
   "source": [
    "## Part Two\n",
    "\n",
    "It's getting pretty expensive to fly these days - not because of ticket prices, but because of the ridiculous number of bags you need to buy!\n",
    "\n",
    "Consider again your `shiny gold` bag and the rules from the above example:\n",
    "\n",
    "* `faded blue` bags contain `0` other bags.\n",
    "* `dotted black` bags contain `0` other bags.\n",
    "* `vibrant plum` bags contain `11` other bags: 5 `faded blue` bags and 6 `dotted black` bags.\n",
    "* `dark olive` bags contain `7` other bags: 3 `faded blue` bags and 4 `dotted black` bags.\n",
    "\n",
    "So, a `single shiny` gold bag must contain 1 `dark olive` bag (and the 7 bags within it) plus 2 `vibrant plum` bags (and the 11 bags within **each** of those): `1 + 1*7 + 2 + 2*11` = **`32`** bags!\n",
    "\n",
    "Of course, the actual rules have a small chance of going several levels deeper than this example; be sure to count all of the bags, even if the nesting becomes topologically impractical!\n",
    "\n",
    "Here's another example:\n",
    "\n",
    "    shiny gold bags contain 2 dark red bags.\n",
    "    dark red bags contain 2 dark orange bags.\n",
    "    dark orange bags contain 2 dark yellow bags.\n",
    "    dark yellow bags contain 2 dark green bags.\n",
    "    dark green bags contain 2 dark blue bags.\n",
    "    dark blue bags contain 2 dark violet bags.\n",
    "    dark violet bags contain no other bags.\n",
    "\n",
    "In this example, a single `shiny gold` bag must contain **`126`** other bags.\n",
    "\n",
    "How many individual bags are required inside your single shiny gold bag?\n",
    "\n",
    "Your puzzle answer was `57281`."
   ]
  },
  {
   "cell_type": "code",
   "execution_count": 5,
   "metadata": {},
   "outputs": [],
   "source": [
    "def find_children(bag):\n",
    "    return sum([count if c not in children else count * find_children(c) + count \n",
    "                for c, count in children[bag].items()])"
   ]
  },
  {
   "cell_type": "code",
   "execution_count": 6,
   "metadata": {},
   "outputs": [
    {
     "data": {
      "text/plain": [
       "57281"
      ]
     },
     "execution_count": 6,
     "metadata": {},
     "output_type": "execute_result"
    }
   ],
   "source": [
    "find_children('shiny gold')"
   ]
  }
 ],
 "metadata": {
  "jupytext": {
   "hide_notebook_metadata": true
  },
  "kernelspec": {
   "display_name": "Python 3",
   "language": "python",
   "name": "python3"
  },
  "language_info": {
   "codemirror_mode": {
    "name": "ipython",
    "version": 3
   },
   "file_extension": ".py",
   "mimetype": "text/x-python",
   "name": "python",
   "nbconvert_exporter": "python",
   "pygments_lexer": "ipython3",
   "version": "3.7.5"
  }
 },
 "nbformat": 4,
 "nbformat_minor": 4
}
