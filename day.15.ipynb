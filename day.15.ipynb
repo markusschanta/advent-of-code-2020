{
 "cells": [
  {
   "cell_type": "markdown",
   "metadata": {},
   "source": [
    "# Day 15: Rambunctious Recitation\n",
    "\n",
    "You catch the airport shuttle and try to book a new flight to your vacation island. Due to the storm, all direct flights have been cancelled, but a route is available to get around the storm. You take it.\n",
    "\n",
    "While you wait for your flight, you decide to check in with the Elves back at the North Pole. They're playing a **memory game** and are ever so excited to explain the rules!\n",
    "\n",
    "In this game, the players take turns saying **numbers**. They begin by taking turns reading from a list of **starting numbers** (your puzzle input). Then, each turn consists of considering the **most recently spoken number**:\n",
    "\n",
    "* If that was the **first** time the number has been spoken, the current player says `0`.\n",
    "* Otherwise, the number had been spoken before; the current player announces **how many turns apart** the number is from when it was previously spoken.\n",
    "\n",
    "So, after the starting numbers, each turn results in that player speaking aloud either `0` (if the last number is new) or an **age** (if the last number is a repeat).\n",
    "\n",
    "For example, suppose the starting numbers are `0, 3, 6`:\n",
    "\n",
    "* **Turn 1**: The `1`st number spoken is a starting number, **`0`**.\n",
    "* **Turn 2**: The `2`nd number spoken is a starting number, **`3`**.\n",
    "* **Turn 3**: The `3`rd number spoken is a starting number, **`6`**.\n",
    "* **Turn 4**: Now, consider the last number spoken, `6`. Since that was the first time the number had been spoken, the `4`th number spoken is **`0`**.\n",
    "* **Turn 5**: Next, again consider the last number spoken, `0`. Since it had been spoken before, the next number to speak is the difference between the turn number when it was last spoken (the previous turn, `4`) and the turn number of the time it was most recently spoken before then (turn `1`). Thus, the 5th number spoken is `4 - 1`, **`3`**.\n",
    "* **Turn 6**: The last number spoken, `3` had also been spoken before, most recently on turns `5` and `2`. So, the `6`th number spoken is `5 - 2`, **`3`**.\n",
    "* **Turn 7**: Since `3` was just spoken twice in a row, and the last two turns are `1` turn apart, the `7`th number spoken is **`1`**.\n",
    "* **Turn 8**: Since `1` is new, the `8`th number spoken is **`0`**.\n",
    "* **Turn 9**: `0` was last spoken on turns `8` and `4`, so the `9`th number spoken is the difference between them, **`4`**.\n",
    "* **Turn 10**: `4` is new, so the `10`th number spoken is **`0`**.\n",
    "\n",
    "(The game ends when the Elves get sick of playing or dinner is ready, whichever comes first.)\n",
    "\n",
    "Their question for you is: what will be the **`2020`th** number spoken? In the example above, the `2020`th number spoken will be `436`.\n",
    "\n",
    "Here are a few more examples:\n",
    "\n",
    "* Given the starting numbers `1,3,2`, the `2020`th number spoken is `1`.\n",
    "* Given the starting numbers `2,1,3`, the `2020`th number spoken is `10`.\n",
    "* Given the starting numbers `1,2,3`, the `2020`th number spoken is `27`.\n",
    "* Given the starting numbers `2,3,1`, the `2020`th number spoken is `78`.\n",
    "* Given the starting numbers `3,2,1`, the `2020`th number spoken is `438`.\n",
    "* Given the starting numbers `3,1,2`, the `2020`th number spoken is `1836`.\n",
    "\n",
    "Given your starting numbers, **what will be the `2020`th number spoken?**\n",
    "\n",
    "Your puzzle input is `1,12,0,20,8,16`.\n",
    "\n",
    "Your puzzle answer was `273`."
   ]
  },
  {
   "cell_type": "code",
   "execution_count": 1,
   "metadata": {},
   "outputs": [],
   "source": [
    "input = [0, 3, 6]"
   ]
  },
  {
   "cell_type": "code",
   "execution_count": 2,
   "metadata": {},
   "outputs": [],
   "source": [
    "input = [1, 3, 2]"
   ]
  },
  {
   "cell_type": "code",
   "execution_count": 3,
   "metadata": {},
   "outputs": [],
   "source": [
    "input = [2, 1, 3]"
   ]
  },
  {
   "cell_type": "code",
   "execution_count": 4,
   "metadata": {},
   "outputs": [],
   "source": [
    "input = [1, 12, 0, 20, 8, 16]"
   ]
  },
  {
   "cell_type": "code",
   "execution_count": 5,
   "metadata": {},
   "outputs": [
    {
     "data": {
      "text/plain": [
       "273"
      ]
     },
     "execution_count": 5,
     "metadata": {},
     "output_type": "execute_result"
    }
   ],
   "source": [
    "n = 2020\n",
    "\n",
    "sequence = []\n",
    "\n",
    "for i in range(1, n + 1):\n",
    "    if i <= len(input):\n",
    "        sequence.append(input[i - 1])\n",
    "    else:\n",
    "        last = sequence[-1]\n",
    "        occurrences = [i for i, n in enumerate(sequence[::-1]) if n == last]\n",
    "        assert len(occurrences) > 0\n",
    "        if len(occurrences) == 1:\n",
    "            sequence.append(0)\n",
    "        elif len(occurrences) >= 2:\n",
    "            sequence.append(occurrences[1] - occurrences[0])\n",
    "\n",
    "sequence[n - 1]"
   ]
  },
  {
   "cell_type": "markdown",
   "metadata": {},
   "source": [
    "## Part Two\n",
    "\n",
    "Impressed, the Elves issue you a challenge: determine the `30000000`th number spoken. For example, given the same starting numbers as above:\n",
    "\n",
    "* Given `0,3,6`, the `30000000`th number spoken is `175594`.\n",
    "* Given `1,3,2`, the `30000000`th number spoken is `2578`.\n",
    "* Given `2,1,3`, the `30000000`th number spoken is `3544142`.\n",
    "* Given `1,2,3`, the `30000000`th number spoken is `261214`.\n",
    "* Given `2,3,1`, the `30000000`th number spoken is `6895259`.\n",
    "* Given `3,2,1`, the `30000000`th number spoken is `18`.\n",
    "* Given `3,1,2`, the `30000000`th number spoken is `362`.\n",
    "\n",
    "Given your starting numbers, **what will be the `30000000`th number spoken?**\n",
    "\n",
    "Your puzzle answer was `47205`."
   ]
  },
  {
   "cell_type": "code",
   "execution_count": 6,
   "metadata": {},
   "outputs": [
    {
     "data": {
      "text/plain": [
       "273"
      ]
     },
     "execution_count": 6,
     "metadata": {},
     "output_type": "execute_result"
    }
   ],
   "source": [
    "n = 2020\n",
    "\n",
    "sequence = []\n",
    "\n",
    "for i in range(1, n + 1):\n",
    "    if i <= len(input):\n",
    "        sequence.insert(0, input[i - 1])\n",
    "    else:\n",
    "        last = sequence[0]\n",
    "        try:\n",
    "            previous = sequence.index(last, 1)\n",
    "            sequence.insert(0, previous)\n",
    "        except ValueError:\n",
    "            sequence.insert(0, 0)\n",
    "\n",
    "sequence[0]"
   ]
  },
  {
   "cell_type": "code",
   "execution_count": 11,
   "metadata": {},
   "outputs": [
    {
     "data": {
      "text/plain": [
       "47205"
      ]
     },
     "execution_count": 11,
     "metadata": {},
     "output_type": "execute_result"
    }
   ],
   "source": [
    "n = 30000000\n",
    "\n",
    "mentions = {}\n",
    "\n",
    "for i in range(1, n + 1):\n",
    "    if i <= len(input):\n",
    "        mentions[input[i - 1]] = [i]\n",
    "        last = input[i - 1]\n",
    "    else:\n",
    "        if len(mentions[last]) == 1:\n",
    "            age = 0\n",
    "        else:\n",
    "            age = mentions[last][0] - mentions[last][1]\n",
    "        last = age\n",
    "        if age in mentions:\n",
    "            mentions[age] = [i, mentions[age][0]]\n",
    "        else:\n",
    "            mentions[age] = [i]\n",
    "\n",
    "last"
   ]
  }
 ],
 "metadata": {
  "jupytext": {
   "hide_notebook_metadata": true
  },
  "kernelspec": {
   "display_name": "Python 3",
   "language": "python",
   "name": "python3"
  },
  "language_info": {
   "codemirror_mode": {
    "name": "ipython",
    "version": 3
   },
   "file_extension": ".py",
   "mimetype": "text/x-python",
   "name": "python",
   "nbconvert_exporter": "python",
   "pygments_lexer": "ipython3",
   "version": "3.7.5"
  }
 },
 "nbformat": 4,
 "nbformat_minor": 4
}
