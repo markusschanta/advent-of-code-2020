{
 "cells": [
  {
   "cell_type": "markdown",
   "metadata": {},
   "source": [
    "# Day 23: Crab Cups\n",
    "\n",
    "The small crab challenges you to a game! The crab is going to mix up some cups, and you have to predict where they'll end up.\n",
    "\n",
    "The cups will be arranged in a circle and labeled **clockwise** (your puzzle input). For example, if your labeling were `32415`, there would be five cups in the circle; going clockwise around the circle from the first cup, the cups would be labeled `3`, `2`, `4`, `1`, `5`, and then back to `3` again.\n",
    "\n",
    "Before the crab starts, it will designate the first cup in your list as the **current cup**. The crab is then going to do **100 moves**.\n",
    "\n",
    "Each **move**, the crab does the following actions:\n",
    "\n",
    "* The crab picks up the **three cups** that are immediately **clockwise** of the **current cup**. They are removed from the circle; cup spacing is adjusted as necessary to maintain the circle.\n",
    "* The crab selects a **destination cup**: the cup with a **label** equal to the **current cup's** label minus one. If this would select one of the cups that was just picked up, the crab will keep subtracting one until it finds a cup that wasn't just picked up. If at any point in this process the value goes below the lowest value on any cup's label, it **wraps around** to the highest value on any cup's label instead.\n",
    "* The crab places the cups it just picked up so that they are **immediately clockwise** of the destination cup. They keep the same order as when they were picked up.\n",
    "* The crab selects a new **current cup**: the cup which is immediately clockwise of the current cup.\n",
    "\n",
    "For example, suppose your cup labeling were `389125467`. If the crab were to do merely 10 moves, the following changes would occur:\n",
    "\n",
    "    -- move 1 --\n",
    "    cups: (3) 8  9  1  2  5  4  6  7 \n",
    "    pick up: 8, 9, 1\n",
    "    destination: 2\n",
    "\n",
    "    -- move 2 --\n",
    "    cups:  3 (2) 8  9  1  5  4  6  7 \n",
    "    pick up: 8, 9, 1\n",
    "    destination: 7\n",
    "\n",
    "    -- move 3 --\n",
    "    cups:  3  2 (5) 4  6  7  8  9  1 \n",
    "    pick up: 4, 6, 7\n",
    "    destination: 3\n",
    "\n",
    "    -- move 4 --\n",
    "    cups:  7  2  5 (8) 9  1  3  4  6 \n",
    "    pick up: 9, 1, 3\n",
    "    destination: 7\n",
    "\n",
    "    -- move 5 --\n",
    "    cups:  3  2  5  8 (4) 6  7  9  1 \n",
    "    pick up: 6, 7, 9\n",
    "    destination: 3\n",
    "\n",
    "    -- move 6 --\n",
    "    cups:  9  2  5  8  4 (1) 3  6  7 \n",
    "    pick up: 3, 6, 7\n",
    "    destination: 9\n",
    "\n",
    "    -- move 7 --\n",
    "    cups:  7  2  5  8  4  1 (9) 3  6 \n",
    "    pick up: 3, 6, 7\n",
    "    destination: 8\n",
    "\n",
    "    -- move 8 --\n",
    "    cups:  8  3  6  7  4  1  9 (2) 5 \n",
    "    pick up: 5, 8, 3\n",
    "    destination: 1\n",
    "\n",
    "    -- move 9 --\n",
    "    cups:  7  4  1  5  8  3  9  2 (6)\n",
    "    pick up: 7, 4, 1\n",
    "    destination: 5\n",
    "\n",
    "    -- move 10 --\n",
    "    cups: (5) 7  4  1  8  3  9  2  6 \n",
    "    pick up: 7, 4, 1\n",
    "    destination: 3\n",
    "\n",
    "    -- final --\n",
    "    cups:  5 (8) 3  7  4  1  9  2  6 \n",
    "\n",
    "In the above example, the cups' values are the labels as they appear moving clockwise around the circle; the **current cup** is marked with `( )`.\n",
    "\n",
    "After the crab is done, what order will the cups be in? Starting **after the cup labeled `1`**, collect the other cups' labels clockwise into a single string with no extra characters; each number except `1` should appear exactly once. In the above example, after 10 moves, the cups clockwise from `1` are labeled `9`, `2`, `6`, `5`, and so on, producing **`92658374`**. If the crab were to complete all 100 moves, the order after cup `1` would be **`67384529`**.\n",
    "\n",
    "Using your labeling, simulate 100 moves. **What are the labels on the cups after cup `1`?**\n",
    "\n",
    "Your puzzle input is `952438716`.\n",
    "\n",
    "Your puzzle answer was `97342568`."
   ]
  },
  {
   "cell_type": "code",
   "execution_count": 1,
   "metadata": {},
   "outputs": [],
   "source": [
    "input = '389125467'"
   ]
  },
  {
   "cell_type": "code",
   "execution_count": 2,
   "metadata": {},
   "outputs": [],
   "source": [
    "input = '952438716'"
   ]
  },
  {
   "cell_type": "code",
   "execution_count": 3,
   "metadata": {},
   "outputs": [
    {
     "data": {
      "text/plain": [
       "'97342568'"
      ]
     },
     "execution_count": 3,
     "metadata": {},
     "output_type": "execute_result"
    }
   ],
   "source": [
    "cups = list(map(int, list(input)))\n",
    "current = 0\n",
    "\n",
    "for _ in range(100):\n",
    "    c1, c2, c3 = cups[(current + 1) % len(cups)] , cups[(current + 2) % len(cups)] , cups[(current + 3) % len(cups)]\n",
    "    destination = cups[current] - 1\n",
    "    currentv = cups[current]\n",
    "\n",
    "    cups.remove(c1)\n",
    "    cups.remove(c2)\n",
    "    cups.remove(c3)\n",
    "\n",
    "    while destination not in cups:\n",
    "        destination = destination - 1 if destination > 1 else 9 \n",
    "\n",
    "    cups.insert(cups.index(destination) + 1, c3)\n",
    "    cups.insert(cups.index(destination) + 1, c2)\n",
    "    cups.insert(cups.index(destination) + 1, c1)\n",
    "    \n",
    "    current = ( cups.index(currentv) + 1 ) % len(cups)\n",
    "\n",
    "cups = cups[cups.index(1) + 1:] + cups[ :cups.index(1) ]\n",
    "''.join(map(str,cups))"
   ]
  },
  {
   "cell_type": "markdown",
   "metadata": {},
   "source": [
    "## Part Two\n",
    "\n",
    "Due to what you can only assume is a mistranslation (you're not exactly fluent in Crab), you are quite surprised when the crab starts arranging **many** cups in a circle on your raft - **one million** (`1000000`) in total.\n",
    "\n",
    "Your labeling is still correct for the first few cups; after that, the remaining cups are just numbered in an increasing fashion starting from the number after the highest number in your list and proceeding one by one until one million is reached. (For example, if your labeling were `54321`, the cups would be numbered `5`, `4`, `3`, `2`, `1`, and then start counting up from `6` until one million is reached.) In this way, every number from one through one million is used exactly once.\n",
    "\n",
    "After discovering where you made the mistake in translating Crab Numbers, you realize the small crab isn't going to do merely 100 moves; the crab is going to do **ten million** (`10000000`) moves!\n",
    "\n",
    "The crab is going to hide your **stars** - one each - under the **two cups that will end up immediately clockwise of cup `1`**. You can have them if you predict what the labels on those cups will be when the crab is finished.\n",
    "\n",
    "In the above example (`389125467`), this would be `934001` and then `159792`; multiplying these together produces **`149245887792`**.\n",
    "\n",
    "Determine which two cups will end up immediately clockwise of cup `1`. **What do you get if you multiply their labels together?**\n",
    "\n",
    "Your puzzle answer was `902208073192`."
   ]
  },
  {
   "cell_type": "code",
   "execution_count": 4,
   "metadata": {},
   "outputs": [
    {
     "name": "stdout",
     "output_type": "stream",
     "text": [
      "902208073192\n"
     ]
    }
   ],
   "source": [
    "cups = list(map(int, list(input)))\n",
    "ls = {}\n",
    "\n",
    "for i in range(1000000):\n",
    "    if i < len(cups) - 1:\n",
    "        ls[cups[i]] = cups[i + 1]\n",
    "    elif i == len(cups) - 1:\n",
    "        ls[cups[-1]] = max(cups) + 1\n",
    "    else: \n",
    "        ls[i + 1] = (i + 2)\n",
    "\n",
    "ls[1000000] = cups[0]\n",
    "\n",
    "current = cups[0]\n",
    "\n",
    "for _ in range(10000000):\n",
    "    c1 = ls[current]\n",
    "    c2 = ls[c1]\n",
    "    c3 = ls[c2]\n",
    "\n",
    "    ls[current] = ls[c3]\n",
    "    destination =  1000000 if current == 1 else current -1\n",
    "\n",
    "    while destination in [c1, c2, c3]:\n",
    "        destination = 1000000 if destination == 1 else destination - 1\n",
    "\n",
    "    ls[c3] = ls[destination]\n",
    "    ls[destination] = c1\n",
    "    current = ls[current]\n",
    "\n",
    "print( ls[1] * ls[ls[1]] )"
   ]
  }
 ],
 "metadata": {
  "jupytext": {
   "hide_notebook_metadata": true
  },
  "kernelspec": {
   "display_name": "Python 3",
   "language": "python",
   "name": "python3"
  },
  "language_info": {
   "codemirror_mode": {
    "name": "ipython",
    "version": 3
   },
   "file_extension": ".py",
   "mimetype": "text/x-python",
   "name": "python",
   "nbconvert_exporter": "python",
   "pygments_lexer": "ipython3",
   "version": "3.7.5"
  }
 },
 "nbformat": 4,
 "nbformat_minor": 4
}
