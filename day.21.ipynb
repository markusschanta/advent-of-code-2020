{
 "cells": [
  {
   "cell_type": "markdown",
   "metadata": {},
   "source": [
    "# Day 21: Allergen Assessment\n",
    "\n",
    "You reach the train's last stop and the closest you can get to your vacation island without getting wet. There aren't even any boats here, but nothing can stop you now: you build a raft. You just need a few days' worth of food for your journey.\n",
    "\n",
    "You don't speak the local language, so you can't read any ingredients lists. However, sometimes, allergens are listed in a language you do understand. You should be able to use this information to determine which ingredient contains which allergen and work out which foods are safe to take with you on your trip.\n",
    "\n",
    "You start by compiling a list of foods (your puzzle input), one food per line. Each line includes that food's ingredients list followed by some or all of the allergens the food contains.\n",
    "\n",
    "Each allergen is found in exactly one ingredient. Each ingredient contains zero or one allergen. **Allergens aren't always marked**; when they're listed (as in `(contains nuts, shellfish)` after an ingredients list), the ingredient that contains each listed allergen will be **somewhere in the corresponding ingredients list**. However, even if an allergen isn't listed, the ingredient that contains that allergen could still be present: maybe they forgot to label it, or maybe it was labeled in a language you don't know.\n",
    "\n",
    "For example, consider the following list of foods:\n",
    "\n",
    "    mxmxvkd kfcds sqjhc nhms (contains dairy, fish)\n",
    "    trh fvjkl sbzzf mxmxvkd (contains dairy)\n",
    "    sqjhc fvjkl (contains soy)\n",
    "    sqjhc mxmxvkd sbzzf (contains fish)\n",
    "\n",
    "The first food in the list has four ingredients (written in a language you don't understand): `mxmxvkd`, `kfcds`, `sqjhc`, and `nhms`. While the food might contain other allergens, a few allergens the food definitely contains are listed afterward: `dairy` and `fish`.\n",
    "\n",
    "The first step is to determine which ingredients **can't possibly** contain any of the allergens in any food in your list. In the above example, none of the ingredients `kfcds`, `nhms`, `sbzzf`, or `trh` can contain an allergen. Counting the number of times any of these ingredients appear in any ingredients list produces **`5`**: they all appear once each except `sbzzf`, which appears twice.\n",
    "\n",
    "Determine which ingredients cannot possibly contain any of the allergens in your list. **How many times do any of those ingredients appear?**\n",
    "\n",
    "Your puzzle answer was `1930`."
   ]
  },
  {
   "cell_type": "code",
   "execution_count": 1,
   "metadata": {},
   "outputs": [],
   "source": [
    "input = \"\"\"mxmxvkd kfcds sqjhc nhms (contains dairy, fish)\n",
    "trh fvjkl sbzzf mxmxvkd (contains dairy)\n",
    "sqjhc fvjkl (contains soy)\n",
    "sqjhc mxmxvkd sbzzf (contains fish)\"\"\".split('\\n')"
   ]
  },
  {
   "cell_type": "code",
   "execution_count": 2,
   "metadata": {},
   "outputs": [],
   "source": [
    "input = open('day.21.input.txt', 'r').read().split('\\n')"
   ]
  },
  {
   "cell_type": "code",
   "execution_count": 3,
   "metadata": {},
   "outputs": [
    {
     "data": {
      "text/plain": [
       "1930"
      ]
     },
     "execution_count": 3,
     "metadata": {},
     "output_type": "execute_result"
    }
   ],
   "source": [
    "from functools import reduce\n",
    "import re\n",
    "\n",
    "def parse(s):\n",
    "    i, a = re.search('(.*) [(]contains (.*)[)]', s).groups()\n",
    "    i = set(i.split(' '))\n",
    "    a = set(a.split(', '))\n",
    "    return [i, a]\n",
    "\n",
    "foods = [parse(i) for i in input]\n",
    "ingredients = reduce(set.union, [{a for a in f[0]} for f in foods])\n",
    "allergens = reduce(set.union, [{a for a in f[1]} for f in foods])\n",
    "\n",
    "candidates = {a: reduce(set.intersection, [f[0] for f in foods if a in f[1]]) for a in allergens}\n",
    "\n",
    "excluded = ingredients - reduce(set.union, candidates.values())\n",
    "sum([len({a for a in f[0] if a in excluded}) for f in foods])"
   ]
  },
  {
   "cell_type": "markdown",
   "metadata": {},
   "source": [
    "## Part Two\n",
    "\n",
    "Now that you've isolated the inert ingredients, you should have enough information to figure out which ingredient contains which allergen.\n",
    "\n",
    "In the above example:\n",
    "\n",
    "* `mxmxvkd` contains `dairy`.\n",
    "* `sqjhc` contains `fish`.\n",
    "* `fvjkl` contains `soy`.\n",
    "\n",
    "Arrange the ingredients **alphabetically by their allergen** and separate them by commas to produce your **canonical dangerous ingredient list**. (There should **not be any spaces** in your canonical dangerous ingredient list.) In the above example, this would be `mxmxvkd,sqjhc,fvjkl`.\n",
    "\n",
    "Time to stock your raft with supplies. **What is your canonical dangerous ingredient list?**\n",
    "\n",
    "Your puzzle answer was `spcqmzfg,rpf,dzqlq,pflk,bltrbvz,xbdh,spql,bltzkxx`."
   ]
  },
  {
   "cell_type": "code",
   "execution_count": 4,
   "metadata": {},
   "outputs": [
    {
     "name": "stdout",
     "output_type": "stream",
     "text": [
      "spcqmzfg,rpf,dzqlq,pflk,bltrbvz,xbdh,spql,bltzkxx\n"
     ]
    }
   ],
   "source": [
    "while max([len(v) for v in candidates.values()]) > 1:\n",
    "    known = {list(fs)[0] for a, fs in candidates.items() if len(fs) == 1}\n",
    "    candidates = {a: fs - known if len(fs) > 1 else fs for a, fs in candidates.items()}\n",
    "    \n",
    "dangerous = [(k, list(v)[0]) for k, v in candidates.items()]\n",
    "print(','.join([d[1] for d in sorted(dangerous, key=lambda d: d[0])]))"
   ]
  }
 ],
 "metadata": {
  "jupytext": {
   "hide_notebook_metadata": true
  },
  "kernelspec": {
   "display_name": "Python 3",
   "language": "python",
   "name": "python3"
  },
  "language_info": {
   "codemirror_mode": {
    "name": "ipython",
    "version": 3
   },
   "file_extension": ".py",
   "mimetype": "text/x-python",
   "name": "python",
   "nbconvert_exporter": "python",
   "pygments_lexer": "ipython3",
   "version": "3.7.5"
  }
 },
 "nbformat": 4,
 "nbformat_minor": 4
}
