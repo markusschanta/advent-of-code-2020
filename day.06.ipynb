{
 "cells": [
  {
   "cell_type": "markdown",
   "metadata": {},
   "source": [
    "# Day 6: Custom Customs\n",
    "\n",
    "As your flight approaches the regional airport where you'll switch to a much larger plane, [customs declaration forms](https://en.wikipedia.org/wiki/Customs_declaration) are distributed to the passengers.\n",
    "\n",
    "The form asks a series of 26 yes-or-no questions marked `a` through `z`. All you need to do is identify the questions for which **anyone in your group** answers \"yes\". Since your group is just you, this doesn't take very long.\n",
    "\n",
    "However, the person sitting next to you seems to be experiencing a language barrier and asks if you can help. For each of the people in their group, you write down the questions for which they answer \"yes\", one per line. For example:\n",
    "\n",
    "    abcx\n",
    "    abcy\n",
    "    abcz\n",
    "\n",
    "In this group, there are **`6`** questions to which anyone answered \"yes\": `a`, `b`, `c`, `x`, `y`, and `z`. (Duplicate answers to the same question don't count extra; each question counts at most once.)\n",
    "\n",
    "Another group asks for your help, then another, and eventually you've collected answers from every group on the plane (your puzzle input). Each group's answers are separated by a blank line, and within each group, each person's answers are on a single line. For example:\n",
    "\n",
    "    abc\n",
    "\n",
    "    a\n",
    "    b\n",
    "    c\n",
    "\n",
    "    ab\n",
    "    ac\n",
    "\n",
    "    a\n",
    "    a\n",
    "    a\n",
    "    a\n",
    "\n",
    "    b\n",
    "\n",
    "This list represents answers from five groups:\n",
    "\n",
    "* The first group contains one person who answered \"yes\" to **`3`** questions: `a`, `b`, and `c`.\n",
    "* The second group contains three people; combined, they answered \"yes\" to **`3`** questions: `a`, `b`, and `c`.\n",
    "* The third group contains two people; combined, they answered \"yes\" to **`3`** questions: `a`, `b`, and `c`.\n",
    "* The fourth group contains four people; combined, they answered \"yes\" to only **`1`** question, `a`.\n",
    "* The last group contains one person who answered \"yes\" to only **`1`** question, `b`.\n",
    "\n",
    "In this example, the sum of these counts is `3 + 3 + 3 + 1 + 1` = **`11`**.\n",
    "\n",
    "For each group, count the number of questions to which anyone answered \"yes\". What is the sum of those counts?\n",
    "\n",
    "Your puzzle answer was `6291`."
   ]
  },
  {
   "cell_type": "code",
   "execution_count": 1,
   "metadata": {},
   "outputs": [],
   "source": [
    "input = \"\"\"abc\n",
    "\n",
    "a\n",
    "b\n",
    "c\n",
    "\n",
    "ab\n",
    "ac\n",
    "\n",
    "a\n",
    "a\n",
    "a\n",
    "a\n",
    "\n",
    "b\"\"\".split('\\n\\n')"
   ]
  },
  {
   "cell_type": "code",
   "execution_count": 2,
   "metadata": {},
   "outputs": [],
   "source": [
    "input = open('day.06.input.txt', 'r').read().split('\\n\\n')"
   ]
  },
  {
   "cell_type": "code",
   "execution_count": 3,
   "metadata": {},
   "outputs": [
    {
     "data": {
      "text/plain": [
       "6291"
      ]
     },
     "execution_count": 3,
     "metadata": {},
     "output_type": "execute_result"
    }
   ],
   "source": [
    "from functools import reduce\n",
    "import numpy as np\n",
    "\n",
    "np.sum([len(reduce(set.union, [set(p)for p in g.split('\\n')])) for g in input])"
   ]
  },
  {
   "cell_type": "markdown",
   "metadata": {},
   "source": [
    "## Part Two\n",
    "\n",
    "As you finish the last group's customs declaration, you notice that you misread one word in the instructions:\n",
    "\n",
    "You don't need to identify the questions to which **anyone** answered \"yes\"; you need to identify the questions to which **everyone** answered \"yes\"!\n",
    "\n",
    "Using the same example as above:\n",
    "\n",
    "    abc\n",
    "\n",
    "    a\n",
    "    b\n",
    "    c\n",
    "\n",
    "    ab\n",
    "    ac\n",
    "\n",
    "    a\n",
    "    a\n",
    "    a\n",
    "    a\n",
    "\n",
    "    b\n",
    "\n",
    "This list represents answers from five groups:\n",
    "\n",
    "* In the first group, everyone (all 1 person) answered \"yes\" to **`3`** questions: `a`, `b`, and `c`.\n",
    "* In the second group, there is **no** question to which everyone answered \"yes\".\n",
    "* In the third group, everyone answered yes to only **`1`** question, `a`. Since some people did not answer \"yes\" to `b` or `c`, they don't count.\n",
    "* In the fourth group, everyone answered yes to only **`1`** question, `a`.\n",
    "* In the fifth group, everyone (all 1 person) answered \"yes\" to **`1`** question, `b`.\n",
    "\n",
    "In this example, the sum of these counts is 3 + 0 + 1 + 1 + 1 = 6.\n",
    "\n",
    "For each group, count the number of questions to which everyone answered \"yes\". What is the sum of those counts?\n",
    "\n",
    "Your puzzle answer was `3052`."
   ]
  },
  {
   "cell_type": "code",
   "execution_count": 4,
   "metadata": {},
   "outputs": [
    {
     "data": {
      "text/plain": [
       "3052"
      ]
     },
     "execution_count": 4,
     "metadata": {},
     "output_type": "execute_result"
    }
   ],
   "source": [
    "np.sum([len(reduce(set.intersection, [set(p)for p in g.split('\\n')])) for g in input])"
   ]
  }
 ],
 "metadata": {
  "jupytext": {
   "hide_notebook_metadata": true
  },
  "kernelspec": {
   "display_name": "Python 3",
   "language": "python",
   "name": "python3"
  },
  "language_info": {
   "codemirror_mode": {
    "name": "ipython",
    "version": 3
   },
   "file_extension": ".py",
   "mimetype": "text/x-python",
   "name": "python",
   "nbconvert_exporter": "python",
   "pygments_lexer": "ipython3",
   "version": "3.7.5"
  }
 },
 "nbformat": 4,
 "nbformat_minor": 4
}
