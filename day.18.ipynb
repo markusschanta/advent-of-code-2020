{
 "cells": [
  {
   "cell_type": "markdown",
   "metadata": {},
   "source": [
    "# Day 18: Operation Order\n",
    "As you look out the window and notice a heavily-forested continent slowly appear over the horizon, you are interrupted by the child sitting next to you. They're curious if you could help them with their math homework.\n",
    "\n",
    "Unfortunately, it seems like this \"math\" [follows different rules](https://www.youtube.com/watch?v=3QtRK7Y2pPU&t=15) than you remember.\n",
    "\n",
    "The homework (your puzzle input) consists of a series of expressions that consist of addition (`+`), multiplication (`*`), and parentheses (`(...)`). Just like normal math, parentheses indicate that the expression inside must be evaluated before it can be used by the surrounding expression. Addition still finds the sum of the numbers on both sides of the operator, and multiplication still finds the product.\n",
    "\n",
    "However, the rules of **operator precedence** have changed. Rather than evaluating multiplication before addition, the operators have the **same precedence**, and are evaluated left-to-right regardless of the order in which they appear.\n",
    "\n",
    "For example, the steps to evaluate the expression `1 + 2 * 3 + 4 * 5 + 6` are as follows:\n",
    "\n",
    "    1 + 2 * 3 + 4 * 5 + 6\n",
    "      3   * 3 + 4 * 5 + 6\n",
    "          9   + 4 * 5 + 6\n",
    "             13   * 5 + 6\n",
    "                 65   + 6\n",
    "                     71\n",
    "\n",
    "Parentheses can override this order; for example, here is what happens if parentheses are added to form `1 + (2 * 3) + (4 * (5 + 6))`:\n",
    "\n",
    "    1 + (2 * 3) + (4 * (5 + 6))\n",
    "    1 +    6    + (4 * (5 + 6))\n",
    "         7      + (4 * (5 + 6))\n",
    "         7      + (4 *   11   )\n",
    "         7      +     44\n",
    "                51\n",
    "\n",
    "Here are a few more examples:\n",
    "\n",
    "* `2 * 3 + (4 * 5)` becomes **`26`**.\n",
    "* `5 + (8 * 3 + 9 + 3 * 4 * 3)` becomes **`437`**.\n",
    "* `5 * 9 * (7 * 3 * 3 + 9 * 3 + (8 + 6 * 4))` becomes **`12240`**.\n",
    "* `((2 + 4 * 9) * (6 + 9 * 8 + 6) + 6) + 2 + 4 * 2` becomes **`13632`**.\n",
    "\n",
    "Before you can help with the homework, you need to understand it yourself. **Evaluate the expression on each line of the homework; what is the sum of the resulting values?**\n",
    "\n",
    "Your puzzle answer was `69490582260`."
   ]
  },
  {
   "cell_type": "code",
   "execution_count": 1,
   "metadata": {},
   "outputs": [],
   "source": [
    "input = \"\"\"1 + (2 * 3) + (4 * (5 + 6))\"\"\".split('\\n')"
   ]
  },
  {
   "cell_type": "code",
   "execution_count": 2,
   "metadata": {},
   "outputs": [],
   "source": [
    "input = \"\"\"2 * 3 + (4 * 5)\"\"\".split('\\n')"
   ]
  },
  {
   "cell_type": "code",
   "execution_count": 3,
   "metadata": {},
   "outputs": [],
   "source": [
    "input = \"\"\"5 + (8 * 3 + 9 + 3 * 4 * 3)\"\"\".split('\\n')"
   ]
  },
  {
   "cell_type": "code",
   "execution_count": 4,
   "metadata": {},
   "outputs": [],
   "source": [
    "input = \"\"\"5 * 9 * (7 * 3 * 3 + 9 * 3 + (8 + 6 * 4))\"\"\".split('\\n')"
   ]
  },
  {
   "cell_type": "code",
   "execution_count": 5,
   "metadata": {},
   "outputs": [],
   "source": [
    "input = \"\"\"((2 + 4 * 9) * (6 + 9 * 8 + 6) + 6) + 2 + 4 * 2\"\"\".split('\\n')"
   ]
  },
  {
   "cell_type": "code",
   "execution_count": 6,
   "metadata": {},
   "outputs": [],
   "source": [
    "input = open('day.18.input.txt', 'r').read().split('\\n')"
   ]
  },
  {
   "cell_type": "code",
   "execution_count": 7,
   "metadata": {},
   "outputs": [
    {
     "data": {
      "text/plain": [
       "69490582260"
      ]
     },
     "execution_count": 7,
     "metadata": {},
     "output_type": "execute_result"
    }
   ],
   "source": [
    "import sys\n",
    "\n",
    "from sly import Lexer, Parser\n",
    "\n",
    "class AOCLexer(Lexer):\n",
    "    tokens = {NUMBER}\n",
    "    ignore = \" \\t\"\n",
    "    literals = {\"+\", \"*\", \"(\", \")\"}\n",
    "\n",
    "    @_(r\"\\d+\")\n",
    "    def NUMBER(self, t):\n",
    "        t.value = int(t.value)\n",
    "        return t\n",
    "    \n",
    "def AOCParserFactory(_precedence = ((\"left\", \"+\", \"*\"),)):\n",
    "    class AOCParser(Parser):\n",
    "        tokens = AOCLexer.tokens\n",
    "        precedence = _precedence\n",
    "\n",
    "        @_(\"expr\")\n",
    "        def statement(self, p):\n",
    "            return p.expr\n",
    "\n",
    "        @_('expr \"+\" expr')\n",
    "        def expr(self, p):\n",
    "            return p.expr0 + p.expr1\n",
    "\n",
    "        @_('expr \"*\" expr')\n",
    "        def expr(self, p):\n",
    "            return p.expr0 * p.expr1\n",
    "\n",
    "        @_('\"(\" expr \")\"')\n",
    "        def expr(self, p):\n",
    "            return p.expr\n",
    "\n",
    "        @_(\"NUMBER\")\n",
    "        def expr(self, p):\n",
    "            return p.NUMBER\n",
    "        \n",
    "    return AOCParser()\n",
    "\n",
    "lexer = AOCLexer()\n",
    "parser = AOCParserFactory()\n",
    "\n",
    "sum([parser.parse(lexer.tokenize(line)) for line in input])"
   ]
  },
  {
   "cell_type": "markdown",
   "metadata": {},
   "source": [
    "## Part Two\n",
    "\n",
    "You manage to answer the child's questions and they finish part 1 of their homework, but get stuck when they reach the next section: **advanced** math.\n",
    "\n",
    "Now, addition and multiplication have **different** precedence levels, but they're not the ones you're familiar with. Instead, addition is evaluated **before** multiplication.\n",
    "\n",
    "For example, the steps to evaluate the expression `1 + 2 * 3 + 4 * 5 + 6` are now as follows:\n",
    "\n",
    "    1 + 2 * 3 + 4 * 5 + 6\n",
    "      3   * 3 + 4 * 5 + 6\n",
    "      3   *   7   * 5 + 6\n",
    "      3   *   7   *  11\n",
    "         21       *  11\n",
    "             231\n",
    "\n",
    "Here are the other examples from above:\n",
    "\n",
    "* `1 + (2 * 3) + (4 * (5 + 6))` still becomes **`51`**.\n",
    "* `2 * 3 + (4 * 5)` becomes **`46`**.\n",
    "* `5 + (8 * 3 + 9 + 3 * 4 * 3)` becomes **`1445`**.\n",
    "* `5 * 9 * (7 * 3 * 3 + 9 * 3 + (8 + 6 * 4))` becomes **`669060`**.\n",
    "* `((2 + 4 * 9) * (6 + 9 * 8 + 6) + 6) + 2 + 4 * 2` becomes **`23340`**.\n",
    "\n",
    "What do you get if you add up the results of evaluating the homework problems using these new rules?\n",
    "\n",
    "Your puzzle answer was 362464596624526."
   ]
  },
  {
   "cell_type": "code",
   "execution_count": 8,
   "metadata": {},
   "outputs": [
    {
     "data": {
      "text/plain": [
       "362464596624526"
      ]
     },
     "execution_count": 8,
     "metadata": {},
     "output_type": "execute_result"
    }
   ],
   "source": [
    "parser = AOCParserFactory(_precedence = ((\"left\", \"*\"), (\"left\", \"+\"),))\n",
    "\n",
    "sum([parser.parse(lexer.tokenize(line)) for line in input])"
   ]
  }
 ],
 "metadata": {
  "jupytext": {
   "hide_notebook_metadata": true
  },
  "kernelspec": {
   "display_name": "Python 3",
   "language": "python",
   "name": "python3"
  },
  "language_info": {
   "codemirror_mode": {
    "name": "ipython",
    "version": 3
   },
   "file_extension": ".py",
   "mimetype": "text/x-python",
   "name": "python",
   "nbconvert_exporter": "python",
   "pygments_lexer": "ipython3",
   "version": "3.7.5"
  }
 },
 "nbformat": 4,
 "nbformat_minor": 4
}
